{
 "cells": [
  {
   "cell_type": "code",
   "execution_count": 4,
   "metadata": {},
   "outputs": [
    {
     "name": "stderr",
     "output_type": "stream",
     "text": [
      "/tmp/ipykernel_533/4092808578.py:8: FutureWarning: In future versions `DataFrame.to_latex` is expected to utilise the base implementation of `Styler.to_latex` for formatting and rendering. The arguments signature may therefore change. It is recommended instead to use `DataFrame.style.to_latex` which also contains additional functionality.\n",
      "  text_file.write(tab.to_latex())\n"
     ]
    }
   ],
   "source": [
    "from astropy.table import Table\n",
    "import pandas as pd\n",
    "\n",
    "tab = Table.read('combined_old.tex').to_pandas()\n",
    "tab = tab.groupby(\"planner\").mean().round(1)\n",
    "tab\n",
    "# tab = pd.DataFrame(tab)\n",
    "text_file = open(\"latex_table_combined.tex\", \"w\")\n",
    "text_file.write(tab.to_latex())\n",
    "text_file.close()"
   ]
  }
 ],
 "metadata": {
  "kernelspec": {
   "display_name": "Python 3.8.10 ('rosnav': virtualenv)",
   "language": "python",
   "name": "python3"
  },
  "language_info": {
   "codemirror_mode": {
    "name": "ipython",
    "version": 3
   },
   "file_extension": ".py",
   "mimetype": "text/x-python",
   "name": "python",
   "nbconvert_exporter": "python",
   "pygments_lexer": "ipython3",
   "version": "3.8.10"
  },
  "orig_nbformat": 4,
  "vscode": {
   "interpreter": {
    "hash": "3048507fe9a81d2cb30fe94f5c552da2740c3d129ad3096f88699212b78ac20b"
   }
  }
 },
 "nbformat": 4,
 "nbformat_minor": 2
}
